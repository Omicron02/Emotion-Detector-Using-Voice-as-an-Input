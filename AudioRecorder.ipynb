{
 "cells": [
  {
   "cell_type": "markdown",
   "metadata": {},
   "source": [
    "### Installing necessary modules"
   ]
  },
  {
   "cell_type": "code",
   "execution_count": 3,
   "metadata": {},
   "outputs": [
    {
     "name": "stdout",
     "output_type": "stream",
     "text": [
      "Requirement already satisfied: pyaudio in c:\\users\\rsama\\appdata\\local\\programs\\python\\python39\\lib\\site-packages (0.2.12)\n",
      "Note: you may need to restart the kernel to use updated packages.\n",
      "Requirement already satisfied: wave in c:\\users\\rsama\\appdata\\local\\programs\\python\\python39\\lib\\site-packages (0.0.2)\n",
      "Note: you may need to restart the kernel to use updated packages.\n"
     ]
    }
   ],
   "source": [
    "%pip install pyaudio\n",
    "%pip install wave"
   ]
  },
  {
   "cell_type": "markdown",
   "metadata": {},
   "source": [
    "#### Importing modules"
   ]
  },
  {
   "cell_type": "code",
   "execution_count": 3,
   "metadata": {},
   "outputs": [
    {
     "name": "stdout",
     "output_type": "stream",
     "text": [
      "* recording\n",
      "* done recording\n"
     ]
    }
   ],
   "source": [
    "import pyaudio\n",
    "import wave\n"
   ]
  },
  {
   "cell_type": "markdown",
   "metadata": {},
   "source": [
    "#### Recording User's voice and storing it as a wav file"
   ]
  },
  {
   "cell_type": "code",
   "execution_count": null,
   "metadata": {
    "collapsed": true
   },
   "outputs": [],
   "source": [
    "\n",
    "chunkSize = 1024\n",
    "audioFormat = pyaudio.paInt16\n",
    "channels = 2 \n",
    "sampleRate = 44100\n",
    "duration = 4\n",
    "outputFile = \"output14.wav\"\n",
    "\n",
    "record = pyaudio.PyAudio()\n",
    "\n",
    "audioStream = record.open(format=audioFormat, channels=channels, rate=sampleRate, input=True, frames_per_buffer=chunkSize)\n",
    "\n",
    "print(\"Recording has begun\")\n",
    "\n",
    "frames = []\n",
    "\n",
    "for i in range(0, int(sampleRate / chunkSize * duration)):\n",
    "    data = audioStream.read(chunkSize)\n",
    "    frames.append(data)\n",
    "\n",
    "print(\"Recording completed.\")\n",
    "print(f\"Recording stored as {outputFile}.\")\n",
    "\n",
    "audioStream.stop_stream()\n",
    "audioStream.close()\n",
    "record.terminate()\n",
    "\n",
    "wavFile = wave.open(outputFile, 'wb')\n",
    "wavFile.setnchannels(channels)\n",
    "wavFile.setsampwidth(record.get_sample_size(audioFormat))\n",
    "wavFile.setframerate(sampleRate)\n",
    "wavFile.writeframes(b''.join(frames))\n",
    "wavFile.close()"
   ]
  }
 ],
 "metadata": {
  "kernelspec": {
   "display_name": "Python 3.9.4 64-bit",
   "language": "python",
   "name": "python3"
  },
  "language_info": {
   "codemirror_mode": {
    "name": "ipython",
    "version": 3
   },
   "file_extension": ".py",
   "mimetype": "text/x-python",
   "name": "python",
   "nbconvert_exporter": "python",
   "pygments_lexer": "ipython3",
   "version": "3.9.4"
  },
  "vscode": {
   "interpreter": {
    "hash": "68bf31fb78ec695c083c2de6d113ed1a3d4f4162579f9796dd48f59e13663c2c"
   }
  }
 },
 "nbformat": 4,
 "nbformat_minor": 2
}
